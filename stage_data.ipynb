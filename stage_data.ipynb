{
 "cells": [
  {
   "cell_type": "code",
   "execution_count": null,
   "id": "79360119",
   "metadata": {},
   "outputs": [],
   "source": [
    "# This notebook is used for high-speed ingest from Databricks, and is meant to be submitted as a job.\n",
    "import argparse\n",
    "\n",
    "parser = argparse.ArgumentParser(description='Stage data for fast ingest.')\n",
    "parser.add_argument('access_key_id')\n",
    "parser.add_argument('secret_access_key')\n",
    "parser.add_argument('sql_query')\n",
    "parser.add_argument('stage_output_bucket')\n",
    "parser.add_argument('stage_output_prefix')\n",
    "\n",
    "args = parser.parse_args()\n",
    "\n",
    "sc._jsc.hadoopConfiguration().set(\"fs.s3a.access.key\", f\"{args.access_key_id}\")\n",
    "sc._jsc.hadoopConfiguration().set(\"fs.s3a.secret.key\", f\"{args.secret_access_key}\")\n",
    "sc._jsc.hadoopConfiguration().set(\n",
    "    \"fs.s3a.aws.credentials.provider\", \n",
    "    \"org.apache.hadoop.fs.s3a.SimpleAWSCredentialsProvider\"\n",
    ")\n",
    "\n",
    "df = spark.sql(f\"\"\"{args.query}\"\"\")\n",
    "df.write \\\n",
    "    .format(\"csv\") \\\n",
    "    .option(\"compression\", \"gzip\") \\\n",
    "    .option(\"nullValue\", \"_SISU_NULL\") \\\n",
    "    .option(\"delimiter\", \"\\x1e\") \\\n",
    "    .mode(\"overwrite\") \\\n",
    "    .save(f\"s3a://{args.stage_output_bucket}/{args.stage_output_prefix}\")\n",
    "\n"
   ]
  }
 ],
 "metadata": {
  "kernelspec": {
   "display_name": "Python 3 (ipykernel)",
   "language": "python",
   "name": "python3"
  },
  "language_info": {
   "codemirror_mode": {
    "name": "ipython",
    "version": 3
   },
   "file_extension": ".py",
   "mimetype": "text/x-python",
   "name": "python",
   "nbconvert_exporter": "python",
   "pygments_lexer": "ipython3",
   "version": "3.7.10"
  }
 },
 "nbformat": 4,
 "nbformat_minor": 5
}
